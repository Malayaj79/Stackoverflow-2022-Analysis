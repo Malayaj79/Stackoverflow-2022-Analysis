{
 "cells": [
  {
   "cell_type": "code",
   "execution_count": 2,
   "id": "b6fae779",
   "metadata": {},
   "outputs": [],
   "source": [
    "import numpy as np\n",
    "import pandas as pd\n",
    "import matplotlib.pyplot as plt\n",
    "%matplotlib inline"
   ]
  },
  {
   "cell_type": "code",
   "execution_count": 3,
   "id": "72d1986e",
   "metadata": {},
   "outputs": [],
   "source": [
    "import os\n",
    "os.chdir('C:/Users/malay/Desktop/Dataset')\n"
   ]
  },
  {
   "cell_type": "code",
   "execution_count": 56,
   "id": "09c70d2f",
   "metadata": {},
   "outputs": [
    {
     "data": {
      "text/plain": [
       "(73268, 79)"
      ]
     },
     "execution_count": 56,
     "metadata": {},
     "output_type": "execute_result"
    }
   ],
   "source": [
    "df=pd.read_csv('survey_results_public.csv')\n",
    "df.shape"
   ]
  },
  {
   "cell_type": "code",
   "execution_count": 5,
   "id": "2f7be6b8",
   "metadata": {},
   "outputs": [
    {
     "data": {
      "text/html": [
       "<div>\n",
       "<style scoped>\n",
       "    .dataframe tbody tr th:only-of-type {\n",
       "        vertical-align: middle;\n",
       "    }\n",
       "\n",
       "    .dataframe tbody tr th {\n",
       "        vertical-align: top;\n",
       "    }\n",
       "\n",
       "    .dataframe thead th {\n",
       "        text-align: right;\n",
       "    }\n",
       "</style>\n",
       "<table border=\"1\" class=\"dataframe\">\n",
       "  <thead>\n",
       "    <tr style=\"text-align: right;\">\n",
       "      <th></th>\n",
       "      <th>qid</th>\n",
       "      <th>qname</th>\n",
       "      <th>question</th>\n",
       "      <th>force_resp</th>\n",
       "      <th>type</th>\n",
       "      <th>selector</th>\n",
       "    </tr>\n",
       "  </thead>\n",
       "  <tbody>\n",
       "    <tr>\n",
       "      <th>0</th>\n",
       "      <td>QID16</td>\n",
       "      <td>S0</td>\n",
       "      <td>&lt;div&gt;&lt;span style=\"font-size:19px;\"&gt;&lt;strong&gt;Hel...</td>\n",
       "      <td>False</td>\n",
       "      <td>DB</td>\n",
       "      <td>TB</td>\n",
       "    </tr>\n",
       "    <tr>\n",
       "      <th>1</th>\n",
       "      <td>QID12</td>\n",
       "      <td>MetaInfo</td>\n",
       "      <td>Browser Meta Info</td>\n",
       "      <td>False</td>\n",
       "      <td>Meta</td>\n",
       "      <td>Browser</td>\n",
       "    </tr>\n",
       "    <tr>\n",
       "      <th>2</th>\n",
       "      <td>QID1</td>\n",
       "      <td>S1</td>\n",
       "      <td>&lt;span style=\"font-size:22px; font-family: aria...</td>\n",
       "      <td>False</td>\n",
       "      <td>DB</td>\n",
       "      <td>TB</td>\n",
       "    </tr>\n",
       "    <tr>\n",
       "      <th>3</th>\n",
       "      <td>QID2</td>\n",
       "      <td>MainBranch</td>\n",
       "      <td>Which of the following options best describes ...</td>\n",
       "      <td>True</td>\n",
       "      <td>MC</td>\n",
       "      <td>SAVR</td>\n",
       "    </tr>\n",
       "    <tr>\n",
       "      <th>4</th>\n",
       "      <td>QID296</td>\n",
       "      <td>Employment</td>\n",
       "      <td>Which of the following best describes your cur...</td>\n",
       "      <td>False</td>\n",
       "      <td>MC</td>\n",
       "      <td>MAVR</td>\n",
       "    </tr>\n",
       "  </tbody>\n",
       "</table>\n",
       "</div>"
      ],
      "text/plain": [
       "      qid       qname                                           question  \\\n",
       "0   QID16          S0  <div><span style=\"font-size:19px;\"><strong>Hel...   \n",
       "1   QID12    MetaInfo                                  Browser Meta Info   \n",
       "2    QID1          S1  <span style=\"font-size:22px; font-family: aria...   \n",
       "3    QID2  MainBranch  Which of the following options best describes ...   \n",
       "4  QID296  Employment  Which of the following best describes your cur...   \n",
       "\n",
       "  force_resp  type selector  \n",
       "0      False    DB       TB  \n",
       "1      False  Meta  Browser  \n",
       "2      False    DB       TB  \n",
       "3       True    MC     SAVR  \n",
       "4      False    MC     MAVR  "
      ]
     },
     "execution_count": 5,
     "metadata": {},
     "output_type": "execute_result"
    }
   ],
   "source": [
    "df_schema=pd.read_csv('survey_results_schema.csv')\n",
    "df_schema.head()"
   ]
  },
  {
   "cell_type": "code",
   "execution_count": 6,
   "id": "5974acf5",
   "metadata": {},
   "outputs": [],
   "source": [
    "pd.set_option('display.max_columns', None)"
   ]
  },
  {
   "cell_type": "code",
   "execution_count": 7,
   "id": "18abb65b",
   "metadata": {},
   "outputs": [],
   "source": [
    "df1=df[df['DevType']=='Data scientist or machine learning specialist']\n",
    "df2=df[df['DevType']=='Data or business analyst']\n",
    "frames=[df1,df2]\n",
    "df_ds=pd.concat(frames)\n"
   ]
  },
  {
   "cell_type": "code",
   "execution_count": 8,
   "id": "c071b773",
   "metadata": {},
   "outputs": [
    {
     "data": {
      "text/html": [
       "<div>\n",
       "<style scoped>\n",
       "    .dataframe tbody tr th:only-of-type {\n",
       "        vertical-align: middle;\n",
       "    }\n",
       "\n",
       "    .dataframe tbody tr th {\n",
       "        vertical-align: top;\n",
       "    }\n",
       "\n",
       "    .dataframe thead th {\n",
       "        text-align: right;\n",
       "    }\n",
       "</style>\n",
       "<table border=\"1\" class=\"dataframe\">\n",
       "  <thead>\n",
       "    <tr style=\"text-align: right;\">\n",
       "      <th></th>\n",
       "      <th>ResponseId</th>\n",
       "      <th>MainBranch</th>\n",
       "      <th>Employment</th>\n",
       "      <th>RemoteWork</th>\n",
       "      <th>CodingActivities</th>\n",
       "      <th>EdLevel</th>\n",
       "      <th>LearnCode</th>\n",
       "      <th>LearnCodeOnline</th>\n",
       "      <th>LearnCodeCoursesCert</th>\n",
       "      <th>YearsCode</th>\n",
       "      <th>YearsCodePro</th>\n",
       "      <th>DevType</th>\n",
       "      <th>OrgSize</th>\n",
       "      <th>PurchaseInfluence</th>\n",
       "      <th>BuyNewTool</th>\n",
       "      <th>Country</th>\n",
       "      <th>Currency</th>\n",
       "      <th>CompTotal</th>\n",
       "      <th>CompFreq</th>\n",
       "      <th>LanguageHaveWorkedWith</th>\n",
       "      <th>LanguageWantToWorkWith</th>\n",
       "      <th>DatabaseHaveWorkedWith</th>\n",
       "      <th>DatabaseWantToWorkWith</th>\n",
       "      <th>PlatformHaveWorkedWith</th>\n",
       "      <th>PlatformWantToWorkWith</th>\n",
       "      <th>WebframeHaveWorkedWith</th>\n",
       "      <th>WebframeWantToWorkWith</th>\n",
       "      <th>MiscTechHaveWorkedWith</th>\n",
       "      <th>MiscTechWantToWorkWith</th>\n",
       "      <th>ToolsTechHaveWorkedWith</th>\n",
       "      <th>ToolsTechWantToWorkWith</th>\n",
       "      <th>NEWCollabToolsHaveWorkedWith</th>\n",
       "      <th>NEWCollabToolsWantToWorkWith</th>\n",
       "      <th>OpSysProfessional use</th>\n",
       "      <th>OpSysPersonal use</th>\n",
       "      <th>VersionControlSystem</th>\n",
       "      <th>VCInteraction</th>\n",
       "      <th>VCHostingPersonal use</th>\n",
       "      <th>VCHostingProfessional use</th>\n",
       "      <th>OfficeStackAsyncHaveWorkedWith</th>\n",
       "      <th>OfficeStackAsyncWantToWorkWith</th>\n",
       "      <th>OfficeStackSyncHaveWorkedWith</th>\n",
       "      <th>OfficeStackSyncWantToWorkWith</th>\n",
       "      <th>Blockchain</th>\n",
       "      <th>NEWSOSites</th>\n",
       "      <th>SOVisitFreq</th>\n",
       "      <th>SOAccount</th>\n",
       "      <th>SOPartFreq</th>\n",
       "      <th>SOComm</th>\n",
       "      <th>Age</th>\n",
       "      <th>Gender</th>\n",
       "      <th>Trans</th>\n",
       "      <th>Sexuality</th>\n",
       "      <th>Ethnicity</th>\n",
       "      <th>Accessibility</th>\n",
       "      <th>MentalHealth</th>\n",
       "      <th>TBranch</th>\n",
       "      <th>ICorPM</th>\n",
       "      <th>WorkExp</th>\n",
       "      <th>Knowledge_1</th>\n",
       "      <th>Knowledge_2</th>\n",
       "      <th>Knowledge_3</th>\n",
       "      <th>Knowledge_4</th>\n",
       "      <th>Knowledge_5</th>\n",
       "      <th>Knowledge_6</th>\n",
       "      <th>Knowledge_7</th>\n",
       "      <th>Frequency_1</th>\n",
       "      <th>Frequency_2</th>\n",
       "      <th>Frequency_3</th>\n",
       "      <th>TimeSearching</th>\n",
       "      <th>TimeAnswering</th>\n",
       "      <th>Onboarding</th>\n",
       "      <th>ProfessionalTech</th>\n",
       "      <th>TrueFalse_1</th>\n",
       "      <th>TrueFalse_2</th>\n",
       "      <th>TrueFalse_3</th>\n",
       "      <th>SurveyLength</th>\n",
       "      <th>SurveyEase</th>\n",
       "      <th>ConvertedCompYearly</th>\n",
       "    </tr>\n",
       "  </thead>\n",
       "  <tbody>\n",
       "    <tr>\n",
       "      <th>463</th>\n",
       "      <td>464</td>\n",
       "      <td>I am a developer by profession</td>\n",
       "      <td>Employed, full-time</td>\n",
       "      <td>Hybrid (some remote, some in-person)</td>\n",
       "      <td>Hobby</td>\n",
       "      <td>Bachelor’s degree (B.A., B.S., B.Eng., etc.)</td>\n",
       "      <td>Books / Physical media;Other online resources ...</td>\n",
       "      <td>Technical documentation;Blogs;Stack Overflow</td>\n",
       "      <td>NaN</td>\n",
       "      <td>13</td>\n",
       "      <td>9</td>\n",
       "      <td>Data scientist or machine learning specialist</td>\n",
       "      <td>20 to 99 employees</td>\n",
       "      <td>I have some influence</td>\n",
       "      <td>Start a free trial;Ask developers I know/work ...</td>\n",
       "      <td>Israel</td>\n",
       "      <td>ILS\\tIsraeli new shekel</td>\n",
       "      <td>42000.0</td>\n",
       "      <td>Monthly</td>\n",
       "      <td>Bash/Shell;Python;SQL</td>\n",
       "      <td>NaN</td>\n",
       "      <td>DynamoDB;Elasticsearch;PostgreSQL</td>\n",
       "      <td>NaN</td>\n",
       "      <td>AWS;Google Cloud</td>\n",
       "      <td>NaN</td>\n",
       "      <td>FastAPI</td>\n",
       "      <td>NaN</td>\n",
       "      <td>Keras;NumPy;Pandas;Scikit-learn;TensorFlow;Tor...</td>\n",
       "      <td>NaN</td>\n",
       "      <td>Docker;Homebrew</td>\n",
       "      <td>NaN</td>\n",
       "      <td>PyCharm</td>\n",
       "      <td>NaN</td>\n",
       "      <td>NaN</td>\n",
       "      <td>macOS</td>\n",
       "      <td>Git</td>\n",
       "      <td>Code editor</td>\n",
       "      <td>NaN</td>\n",
       "      <td>NaN</td>\n",
       "      <td>monday.com;Notion</td>\n",
       "      <td>NaN</td>\n",
       "      <td>Google Chat;Slack;Zoom</td>\n",
       "      <td>NaN</td>\n",
       "      <td>Indifferent</td>\n",
       "      <td>Stack Overflow;Stack Exchange</td>\n",
       "      <td>Multiple times per day</td>\n",
       "      <td>No</td>\n",
       "      <td>NaN</td>\n",
       "      <td>Not sure</td>\n",
       "      <td>25-34 years old</td>\n",
       "      <td>Man</td>\n",
       "      <td>No</td>\n",
       "      <td>Prefer not to say</td>\n",
       "      <td>Prefer not to say</td>\n",
       "      <td>Prefer not to say</td>\n",
       "      <td>Prefer not to say</td>\n",
       "      <td>No</td>\n",
       "      <td>NaN</td>\n",
       "      <td>NaN</td>\n",
       "      <td>NaN</td>\n",
       "      <td>NaN</td>\n",
       "      <td>NaN</td>\n",
       "      <td>NaN</td>\n",
       "      <td>NaN</td>\n",
       "      <td>NaN</td>\n",
       "      <td>NaN</td>\n",
       "      <td>NaN</td>\n",
       "      <td>NaN</td>\n",
       "      <td>NaN</td>\n",
       "      <td>NaN</td>\n",
       "      <td>NaN</td>\n",
       "      <td>NaN</td>\n",
       "      <td>NaN</td>\n",
       "      <td>NaN</td>\n",
       "      <td>NaN</td>\n",
       "      <td>NaN</td>\n",
       "      <td>Appropriate in length</td>\n",
       "      <td>Easy</td>\n",
       "      <td>150660.0</td>\n",
       "    </tr>\n",
       "    <tr>\n",
       "      <th>1089</th>\n",
       "      <td>1090</td>\n",
       "      <td>I am a developer by profession</td>\n",
       "      <td>Employed, full-time</td>\n",
       "      <td>Hybrid (some remote, some in-person)</td>\n",
       "      <td>Hobby;Contribute to open-source projects</td>\n",
       "      <td>Master’s degree (M.A., M.S., M.Eng., MBA, etc.)</td>\n",
       "      <td>Books / Physical media;Other online resources ...</td>\n",
       "      <td>Technical documentation;Online books;Video-bas...</td>\n",
       "      <td>NaN</td>\n",
       "      <td>6</td>\n",
       "      <td>4</td>\n",
       "      <td>Data scientist or machine learning specialist</td>\n",
       "      <td>10,000 or more employees</td>\n",
       "      <td>I have little or no influence</td>\n",
       "      <td>Start a free trial;Visit developer communities...</td>\n",
       "      <td>United Kingdom of Great Britain and Northern I...</td>\n",
       "      <td>GBP\\tPound sterling</td>\n",
       "      <td>NaN</td>\n",
       "      <td>NaN</td>\n",
       "      <td>Python</td>\n",
       "      <td>Go;Rust</td>\n",
       "      <td>NaN</td>\n",
       "      <td>NaN</td>\n",
       "      <td>NaN</td>\n",
       "      <td>NaN</td>\n",
       "      <td>NaN</td>\n",
       "      <td>NaN</td>\n",
       "      <td>Keras;NumPy;Pandas;TensorFlow</td>\n",
       "      <td>NaN</td>\n",
       "      <td>Docker;Kubernetes</td>\n",
       "      <td>Docker;Kubernetes</td>\n",
       "      <td>IPython/Jupyter;Visual Studio Code</td>\n",
       "      <td>Visual Studio Code</td>\n",
       "      <td>macOS</td>\n",
       "      <td>macOS</td>\n",
       "      <td>Git</td>\n",
       "      <td>Command-line</td>\n",
       "      <td>NaN</td>\n",
       "      <td>NaN</td>\n",
       "      <td>Confluence;Jira Work Management</td>\n",
       "      <td>Confluence;Jira Work Management</td>\n",
       "      <td>Cisco Webex Teams;Microsoft Teams;Slack</td>\n",
       "      <td>Slack</td>\n",
       "      <td>Unfavorable</td>\n",
       "      <td>Stack Overflow;Stack Exchange</td>\n",
       "      <td>Multiple times per day</td>\n",
       "      <td>Yes</td>\n",
       "      <td>I have never participated in Q&amp;A on Stack Over...</td>\n",
       "      <td>No, not really</td>\n",
       "      <td>25-34 years old</td>\n",
       "      <td>Man</td>\n",
       "      <td>No</td>\n",
       "      <td>Straight / Heterosexual</td>\n",
       "      <td>White;European</td>\n",
       "      <td>None of the above</td>\n",
       "      <td>I have a mood or emotional disorder (e.g., dep...</td>\n",
       "      <td>No</td>\n",
       "      <td>NaN</td>\n",
       "      <td>NaN</td>\n",
       "      <td>NaN</td>\n",
       "      <td>NaN</td>\n",
       "      <td>NaN</td>\n",
       "      <td>NaN</td>\n",
       "      <td>NaN</td>\n",
       "      <td>NaN</td>\n",
       "      <td>NaN</td>\n",
       "      <td>NaN</td>\n",
       "      <td>NaN</td>\n",
       "      <td>NaN</td>\n",
       "      <td>NaN</td>\n",
       "      <td>NaN</td>\n",
       "      <td>NaN</td>\n",
       "      <td>NaN</td>\n",
       "      <td>NaN</td>\n",
       "      <td>NaN</td>\n",
       "      <td>NaN</td>\n",
       "      <td>Appropriate in length</td>\n",
       "      <td>Easy</td>\n",
       "      <td>NaN</td>\n",
       "    </tr>\n",
       "    <tr>\n",
       "      <th>1704</th>\n",
       "      <td>1705</td>\n",
       "      <td>I am a developer by profession</td>\n",
       "      <td>Employed, full-time</td>\n",
       "      <td>Fully remote</td>\n",
       "      <td>Hobby;Contribute to open-source projects</td>\n",
       "      <td>Master’s degree (M.A., M.S., M.Eng., MBA, etc.)</td>\n",
       "      <td>Books / Physical media;Other online resources ...</td>\n",
       "      <td>Technical documentation;Blogs;Written Tutorial...</td>\n",
       "      <td>NaN</td>\n",
       "      <td>24</td>\n",
       "      <td>11</td>\n",
       "      <td>Data scientist or machine learning specialist</td>\n",
       "      <td>20 to 99 employees</td>\n",
       "      <td>I have some influence</td>\n",
       "      <td>Visit developer communities like Stack Overflo...</td>\n",
       "      <td>United States of America</td>\n",
       "      <td>USD\\tUnited States dollar</td>\n",
       "      <td>151992.0</td>\n",
       "      <td>Yearly</td>\n",
       "      <td>Elixir;Python;Rust;SQL;TypeScript</td>\n",
       "      <td>Elixir;Julia;Python;Rust;SQL</td>\n",
       "      <td>Elasticsearch;MySQL;PostgreSQL;Redis;SQLite</td>\n",
       "      <td>PostgreSQL;Redis;SQLite</td>\n",
       "      <td>AWS</td>\n",
       "      <td>AWS</td>\n",
       "      <td>FastAPI;Flask;Gatsby</td>\n",
       "      <td>FastAPI;Phoenix</td>\n",
       "      <td>Keras;NumPy;Pandas;Scikit-learn;TensorFlow;Tor...</td>\n",
       "      <td>GTK;NumPy;Pandas;Scikit-learn;Torch/PyTorch;Hu...</td>\n",
       "      <td>Docker;Terraform</td>\n",
       "      <td>Docker;Terraform</td>\n",
       "      <td>Emacs;IPython/Jupyter;Neovim;Vim</td>\n",
       "      <td>Emacs;IPython/Jupyter;Neovim;Vim</td>\n",
       "      <td>macOS</td>\n",
       "      <td>Linux-based;macOS</td>\n",
       "      <td>Git</td>\n",
       "      <td>Code editor;Command-line</td>\n",
       "      <td>NaN</td>\n",
       "      <td>NaN</td>\n",
       "      <td>Asana;Jira Work Management;Trello</td>\n",
       "      <td>NaN</td>\n",
       "      <td>Microsoft Teams;Slack;Zoom</td>\n",
       "      <td>NaN</td>\n",
       "      <td>Very unfavorable</td>\n",
       "      <td>Stack Overflow;Stack Exchange</td>\n",
       "      <td>Daily or almost daily</td>\n",
       "      <td>Yes</td>\n",
       "      <td>Less than once per month or monthly</td>\n",
       "      <td>No, not really</td>\n",
       "      <td>35-44 years old</td>\n",
       "      <td>Man</td>\n",
       "      <td>No</td>\n",
       "      <td>Straight / Heterosexual</td>\n",
       "      <td>White</td>\n",
       "      <td>None of the above</td>\n",
       "      <td>I have an anxiety disorder</td>\n",
       "      <td>Yes</td>\n",
       "      <td>Independent contributor</td>\n",
       "      <td>11.0</td>\n",
       "      <td>Strongly agree</td>\n",
       "      <td>Strongly disagree</td>\n",
       "      <td>Strongly agree</td>\n",
       "      <td>Strongly agree</td>\n",
       "      <td>Strongly agree</td>\n",
       "      <td>Disagree</td>\n",
       "      <td>Strongly disagree</td>\n",
       "      <td>10+ times a week</td>\n",
       "      <td>10+ times a week</td>\n",
       "      <td>1-2 times a week</td>\n",
       "      <td>15-30 minutes a day</td>\n",
       "      <td>60-120 minutes a day</td>\n",
       "      <td>Somewhat long</td>\n",
       "      <td>DevOps function;Continuous integration (CI) an...</td>\n",
       "      <td>Yes</td>\n",
       "      <td>No</td>\n",
       "      <td>No</td>\n",
       "      <td>Appropriate in length</td>\n",
       "      <td>Easy</td>\n",
       "      <td>151992.0</td>\n",
       "    </tr>\n",
       "    <tr>\n",
       "      <th>1707</th>\n",
       "      <td>1708</td>\n",
       "      <td>I am a developer by profession</td>\n",
       "      <td>Employed, full-time</td>\n",
       "      <td>Hybrid (some remote, some in-person)</td>\n",
       "      <td>Hobby</td>\n",
       "      <td>Master’s degree (M.A., M.S., M.Eng., MBA, etc.)</td>\n",
       "      <td>School (i.e., University, College, etc)</td>\n",
       "      <td>NaN</td>\n",
       "      <td>NaN</td>\n",
       "      <td>8</td>\n",
       "      <td>1</td>\n",
       "      <td>Data scientist or machine learning specialist</td>\n",
       "      <td>20 to 99 employees</td>\n",
       "      <td>I have little or no influence</td>\n",
       "      <td>Visit developer communities like Stack Overflow</td>\n",
       "      <td>United States of America</td>\n",
       "      <td>USD\\tUnited States dollar</td>\n",
       "      <td>110000.0</td>\n",
       "      <td>Yearly</td>\n",
       "      <td>Python</td>\n",
       "      <td>Python;Rust</td>\n",
       "      <td>Redis</td>\n",
       "      <td>NaN</td>\n",
       "      <td>NaN</td>\n",
       "      <td>NaN</td>\n",
       "      <td>FastAPI</td>\n",
       "      <td>NaN</td>\n",
       "      <td>NumPy;Pandas;Torch/PyTorch</td>\n",
       "      <td>NumPy;Pandas;Torch/PyTorch</td>\n",
       "      <td>Docker</td>\n",
       "      <td>NaN</td>\n",
       "      <td>Vim;Visual Studio Code</td>\n",
       "      <td>Vim;Visual Studio Code</td>\n",
       "      <td>Linux-based;macOS</td>\n",
       "      <td>macOS;Windows</td>\n",
       "      <td>Git</td>\n",
       "      <td>Code editor;Command-line</td>\n",
       "      <td>NaN</td>\n",
       "      <td>NaN</td>\n",
       "      <td>Notion</td>\n",
       "      <td>NaN</td>\n",
       "      <td>Microsoft Teams;Slack;Zoom</td>\n",
       "      <td>NaN</td>\n",
       "      <td>Favorable</td>\n",
       "      <td>Stack Overflow;Stack Exchange</td>\n",
       "      <td>A few times per week</td>\n",
       "      <td>No</td>\n",
       "      <td>NaN</td>\n",
       "      <td>No, not at all</td>\n",
       "      <td>18-24 years old</td>\n",
       "      <td>Man</td>\n",
       "      <td>No</td>\n",
       "      <td>Straight / Heterosexual</td>\n",
       "      <td>White;Asian;Southeast Asian;Biracial</td>\n",
       "      <td>None of the above</td>\n",
       "      <td>None of the above</td>\n",
       "      <td>Yes</td>\n",
       "      <td>Independent contributor</td>\n",
       "      <td>1.0</td>\n",
       "      <td>Agree</td>\n",
       "      <td>Disagree</td>\n",
       "      <td>Agree</td>\n",
       "      <td>Strongly agree</td>\n",
       "      <td>Strongly agree</td>\n",
       "      <td>Disagree</td>\n",
       "      <td>Disagree</td>\n",
       "      <td>Never</td>\n",
       "      <td>3-5 times a week</td>\n",
       "      <td>Never</td>\n",
       "      <td>15-30 minutes a day</td>\n",
       "      <td>Less than 15 minutes a day</td>\n",
       "      <td>Just right</td>\n",
       "      <td>Microservices;Automated testing</td>\n",
       "      <td>No</td>\n",
       "      <td>No</td>\n",
       "      <td>Yes</td>\n",
       "      <td>Appropriate in length</td>\n",
       "      <td>Easy</td>\n",
       "      <td>110000.0</td>\n",
       "    </tr>\n",
       "    <tr>\n",
       "      <th>1870</th>\n",
       "      <td>1871</td>\n",
       "      <td>I am a developer by profession</td>\n",
       "      <td>Employed, full-time</td>\n",
       "      <td>Hybrid (some remote, some in-person)</td>\n",
       "      <td>Hobby</td>\n",
       "      <td>Bachelor’s degree (B.A., B.S., B.Eng., etc.)</td>\n",
       "      <td>Books / Physical media;Other online resources ...</td>\n",
       "      <td>Technical documentation;Blogs;Written Tutorial...</td>\n",
       "      <td>Coursera</td>\n",
       "      <td>8</td>\n",
       "      <td>4</td>\n",
       "      <td>Data scientist or machine learning specialist</td>\n",
       "      <td>20 to 99 employees</td>\n",
       "      <td>I have a great deal of influence</td>\n",
       "      <td>Other (please specify):;Start a free trial;Ask...</td>\n",
       "      <td>Netherlands</td>\n",
       "      <td>EUR European Euro</td>\n",
       "      <td>88000.0</td>\n",
       "      <td>Yearly</td>\n",
       "      <td>Bash/Shell;Go;HTML/CSS;Python</td>\n",
       "      <td>Bash/Shell;Go;Julia;Python;Rust</td>\n",
       "      <td>MySQL</td>\n",
       "      <td>MySQL;Redis</td>\n",
       "      <td>Microsoft Azure</td>\n",
       "      <td>Google Cloud;Microsoft Azure</td>\n",
       "      <td>NaN</td>\n",
       "      <td>NaN</td>\n",
       "      <td>Keras;NumPy;Pandas;Scikit-learn;TensorFlow;Tor...</td>\n",
       "      <td>NumPy;Pandas;TensorFlow;Torch/PyTorch</td>\n",
       "      <td>Docker;Homebrew</td>\n",
       "      <td>Homebrew;Kubernetes;Terraform</td>\n",
       "      <td>PyCharm;Vim;Visual Studio Code</td>\n",
       "      <td>Vim;Visual Studio Code</td>\n",
       "      <td>Linux-based;macOS;Windows;Windows Subsystem fo...</td>\n",
       "      <td>macOS</td>\n",
       "      <td>Git</td>\n",
       "      <td>Code editor;Command-line</td>\n",
       "      <td>NaN</td>\n",
       "      <td>NaN</td>\n",
       "      <td>Confluence;Jira Work Management;Trello</td>\n",
       "      <td>NaN</td>\n",
       "      <td>Microsoft Teams;Slack</td>\n",
       "      <td>Microsoft Teams;Slack</td>\n",
       "      <td>Favorable</td>\n",
       "      <td>Stack Overflow;Stack Exchange</td>\n",
       "      <td>A few times per week</td>\n",
       "      <td>Yes</td>\n",
       "      <td>Less than once per month or monthly</td>\n",
       "      <td>No, not really</td>\n",
       "      <td>35-44 years old</td>\n",
       "      <td>Man</td>\n",
       "      <td>No</td>\n",
       "      <td>Straight / Heterosexual</td>\n",
       "      <td>White;European</td>\n",
       "      <td>None of the above</td>\n",
       "      <td>None of the above</td>\n",
       "      <td>Yes</td>\n",
       "      <td>Independent contributor</td>\n",
       "      <td>22.0</td>\n",
       "      <td>Agree</td>\n",
       "      <td>Strongly agree</td>\n",
       "      <td>Disagree</td>\n",
       "      <td>Agree</td>\n",
       "      <td>Agree</td>\n",
       "      <td>Strongly disagree</td>\n",
       "      <td>Disagree</td>\n",
       "      <td>1-2 times a week</td>\n",
       "      <td>1-2 times a week</td>\n",
       "      <td>1-2 times a week</td>\n",
       "      <td>60-120 minutes a day</td>\n",
       "      <td>15-30 minutes a day</td>\n",
       "      <td>Somewhat short</td>\n",
       "      <td>DevOps function</td>\n",
       "      <td>Yes</td>\n",
       "      <td>No</td>\n",
       "      <td>Yes</td>\n",
       "      <td>Appropriate in length</td>\n",
       "      <td>Easy</td>\n",
       "      <td>93846.0</td>\n",
       "    </tr>\n",
       "  </tbody>\n",
       "</table>\n",
       "</div>"
      ],
      "text/plain": [
       "      ResponseId                      MainBranch           Employment  \\\n",
       "463          464  I am a developer by profession  Employed, full-time   \n",
       "1089        1090  I am a developer by profession  Employed, full-time   \n",
       "1704        1705  I am a developer by profession  Employed, full-time   \n",
       "1707        1708  I am a developer by profession  Employed, full-time   \n",
       "1870        1871  I am a developer by profession  Employed, full-time   \n",
       "\n",
       "                                RemoteWork  \\\n",
       "463   Hybrid (some remote, some in-person)   \n",
       "1089  Hybrid (some remote, some in-person)   \n",
       "1704                          Fully remote   \n",
       "1707  Hybrid (some remote, some in-person)   \n",
       "1870  Hybrid (some remote, some in-person)   \n",
       "\n",
       "                              CodingActivities  \\\n",
       "463                                      Hobby   \n",
       "1089  Hobby;Contribute to open-source projects   \n",
       "1704  Hobby;Contribute to open-source projects   \n",
       "1707                                     Hobby   \n",
       "1870                                     Hobby   \n",
       "\n",
       "                                              EdLevel  \\\n",
       "463      Bachelor’s degree (B.A., B.S., B.Eng., etc.)   \n",
       "1089  Master’s degree (M.A., M.S., M.Eng., MBA, etc.)   \n",
       "1704  Master’s degree (M.A., M.S., M.Eng., MBA, etc.)   \n",
       "1707  Master’s degree (M.A., M.S., M.Eng., MBA, etc.)   \n",
       "1870     Bachelor’s degree (B.A., B.S., B.Eng., etc.)   \n",
       "\n",
       "                                              LearnCode  \\\n",
       "463   Books / Physical media;Other online resources ...   \n",
       "1089  Books / Physical media;Other online resources ...   \n",
       "1704  Books / Physical media;Other online resources ...   \n",
       "1707            School (i.e., University, College, etc)   \n",
       "1870  Books / Physical media;Other online resources ...   \n",
       "\n",
       "                                        LearnCodeOnline LearnCodeCoursesCert  \\\n",
       "463        Technical documentation;Blogs;Stack Overflow                  NaN   \n",
       "1089  Technical documentation;Online books;Video-bas...                  NaN   \n",
       "1704  Technical documentation;Blogs;Written Tutorial...                  NaN   \n",
       "1707                                                NaN                  NaN   \n",
       "1870  Technical documentation;Blogs;Written Tutorial...             Coursera   \n",
       "\n",
       "     YearsCode YearsCodePro                                        DevType  \\\n",
       "463         13            9  Data scientist or machine learning specialist   \n",
       "1089         6            4  Data scientist or machine learning specialist   \n",
       "1704        24           11  Data scientist or machine learning specialist   \n",
       "1707         8            1  Data scientist or machine learning specialist   \n",
       "1870         8            4  Data scientist or machine learning specialist   \n",
       "\n",
       "                       OrgSize                 PurchaseInfluence  \\\n",
       "463         20 to 99 employees             I have some influence   \n",
       "1089  10,000 or more employees     I have little or no influence   \n",
       "1704        20 to 99 employees             I have some influence   \n",
       "1707        20 to 99 employees     I have little or no influence   \n",
       "1870        20 to 99 employees  I have a great deal of influence   \n",
       "\n",
       "                                             BuyNewTool  \\\n",
       "463   Start a free trial;Ask developers I know/work ...   \n",
       "1089  Start a free trial;Visit developer communities...   \n",
       "1704  Visit developer communities like Stack Overflo...   \n",
       "1707    Visit developer communities like Stack Overflow   \n",
       "1870  Other (please specify):;Start a free trial;Ask...   \n",
       "\n",
       "                                                Country  \\\n",
       "463                                              Israel   \n",
       "1089  United Kingdom of Great Britain and Northern I...   \n",
       "1704                           United States of America   \n",
       "1707                           United States of America   \n",
       "1870                                        Netherlands   \n",
       "\n",
       "                       Currency  CompTotal CompFreq  \\\n",
       "463     ILS\\tIsraeli new shekel    42000.0  Monthly   \n",
       "1089        GBP\\tPound sterling        NaN      NaN   \n",
       "1704  USD\\tUnited States dollar   151992.0   Yearly   \n",
       "1707  USD\\tUnited States dollar   110000.0   Yearly   \n",
       "1870          EUR European Euro    88000.0   Yearly   \n",
       "\n",
       "                 LanguageHaveWorkedWith           LanguageWantToWorkWith  \\\n",
       "463               Bash/Shell;Python;SQL                              NaN   \n",
       "1089                             Python                          Go;Rust   \n",
       "1704  Elixir;Python;Rust;SQL;TypeScript     Elixir;Julia;Python;Rust;SQL   \n",
       "1707                             Python                      Python;Rust   \n",
       "1870      Bash/Shell;Go;HTML/CSS;Python  Bash/Shell;Go;Julia;Python;Rust   \n",
       "\n",
       "                           DatabaseHaveWorkedWith   DatabaseWantToWorkWith  \\\n",
       "463             DynamoDB;Elasticsearch;PostgreSQL                      NaN   \n",
       "1089                                          NaN                      NaN   \n",
       "1704  Elasticsearch;MySQL;PostgreSQL;Redis;SQLite  PostgreSQL;Redis;SQLite   \n",
       "1707                                        Redis                      NaN   \n",
       "1870                                        MySQL              MySQL;Redis   \n",
       "\n",
       "     PlatformHaveWorkedWith        PlatformWantToWorkWith  \\\n",
       "463        AWS;Google Cloud                           NaN   \n",
       "1089                    NaN                           NaN   \n",
       "1704                    AWS                           AWS   \n",
       "1707                    NaN                           NaN   \n",
       "1870        Microsoft Azure  Google Cloud;Microsoft Azure   \n",
       "\n",
       "     WebframeHaveWorkedWith WebframeWantToWorkWith  \\\n",
       "463                 FastAPI                    NaN   \n",
       "1089                    NaN                    NaN   \n",
       "1704   FastAPI;Flask;Gatsby        FastAPI;Phoenix   \n",
       "1707                FastAPI                    NaN   \n",
       "1870                    NaN                    NaN   \n",
       "\n",
       "                                 MiscTechHaveWorkedWith  \\\n",
       "463   Keras;NumPy;Pandas;Scikit-learn;TensorFlow;Tor...   \n",
       "1089                      Keras;NumPy;Pandas;TensorFlow   \n",
       "1704  Keras;NumPy;Pandas;Scikit-learn;TensorFlow;Tor...   \n",
       "1707                         NumPy;Pandas;Torch/PyTorch   \n",
       "1870  Keras;NumPy;Pandas;Scikit-learn;TensorFlow;Tor...   \n",
       "\n",
       "                                 MiscTechWantToWorkWith  \\\n",
       "463                                                 NaN   \n",
       "1089                                                NaN   \n",
       "1704  GTK;NumPy;Pandas;Scikit-learn;Torch/PyTorch;Hu...   \n",
       "1707                         NumPy;Pandas;Torch/PyTorch   \n",
       "1870              NumPy;Pandas;TensorFlow;Torch/PyTorch   \n",
       "\n",
       "     ToolsTechHaveWorkedWith        ToolsTechWantToWorkWith  \\\n",
       "463          Docker;Homebrew                            NaN   \n",
       "1089       Docker;Kubernetes              Docker;Kubernetes   \n",
       "1704        Docker;Terraform               Docker;Terraform   \n",
       "1707                  Docker                            NaN   \n",
       "1870         Docker;Homebrew  Homebrew;Kubernetes;Terraform   \n",
       "\n",
       "            NEWCollabToolsHaveWorkedWith      NEWCollabToolsWantToWorkWith  \\\n",
       "463                              PyCharm                               NaN   \n",
       "1089  IPython/Jupyter;Visual Studio Code                Visual Studio Code   \n",
       "1704    Emacs;IPython/Jupyter;Neovim;Vim  Emacs;IPython/Jupyter;Neovim;Vim   \n",
       "1707              Vim;Visual Studio Code            Vim;Visual Studio Code   \n",
       "1870      PyCharm;Vim;Visual Studio Code            Vim;Visual Studio Code   \n",
       "\n",
       "                                  OpSysProfessional use  OpSysPersonal use  \\\n",
       "463                                                 NaN              macOS   \n",
       "1089                                              macOS              macOS   \n",
       "1704                                              macOS  Linux-based;macOS   \n",
       "1707                                  Linux-based;macOS      macOS;Windows   \n",
       "1870  Linux-based;macOS;Windows;Windows Subsystem fo...              macOS   \n",
       "\n",
       "     VersionControlSystem             VCInteraction  VCHostingPersonal use  \\\n",
       "463                   Git               Code editor                    NaN   \n",
       "1089                  Git              Command-line                    NaN   \n",
       "1704                  Git  Code editor;Command-line                    NaN   \n",
       "1707                  Git  Code editor;Command-line                    NaN   \n",
       "1870                  Git  Code editor;Command-line                    NaN   \n",
       "\n",
       "      VCHostingProfessional use          OfficeStackAsyncHaveWorkedWith  \\\n",
       "463                         NaN                       monday.com;Notion   \n",
       "1089                        NaN         Confluence;Jira Work Management   \n",
       "1704                        NaN       Asana;Jira Work Management;Trello   \n",
       "1707                        NaN                                  Notion   \n",
       "1870                        NaN  Confluence;Jira Work Management;Trello   \n",
       "\n",
       "       OfficeStackAsyncWantToWorkWith  \\\n",
       "463                               NaN   \n",
       "1089  Confluence;Jira Work Management   \n",
       "1704                              NaN   \n",
       "1707                              NaN   \n",
       "1870                              NaN   \n",
       "\n",
       "                OfficeStackSyncHaveWorkedWith OfficeStackSyncWantToWorkWith  \\\n",
       "463                    Google Chat;Slack;Zoom                           NaN   \n",
       "1089  Cisco Webex Teams;Microsoft Teams;Slack                         Slack   \n",
       "1704               Microsoft Teams;Slack;Zoom                           NaN   \n",
       "1707               Microsoft Teams;Slack;Zoom                           NaN   \n",
       "1870                    Microsoft Teams;Slack         Microsoft Teams;Slack   \n",
       "\n",
       "            Blockchain                     NEWSOSites             SOVisitFreq  \\\n",
       "463        Indifferent  Stack Overflow;Stack Exchange  Multiple times per day   \n",
       "1089       Unfavorable  Stack Overflow;Stack Exchange  Multiple times per day   \n",
       "1704  Very unfavorable  Stack Overflow;Stack Exchange   Daily or almost daily   \n",
       "1707         Favorable  Stack Overflow;Stack Exchange    A few times per week   \n",
       "1870         Favorable  Stack Overflow;Stack Exchange    A few times per week   \n",
       "\n",
       "     SOAccount                                         SOPartFreq  \\\n",
       "463         No                                                NaN   \n",
       "1089       Yes  I have never participated in Q&A on Stack Over...   \n",
       "1704       Yes                Less than once per month or monthly   \n",
       "1707        No                                                NaN   \n",
       "1870       Yes                Less than once per month or monthly   \n",
       "\n",
       "              SOComm              Age Gender Trans                Sexuality  \\\n",
       "463         Not sure  25-34 years old    Man    No        Prefer not to say   \n",
       "1089  No, not really  25-34 years old    Man    No  Straight / Heterosexual   \n",
       "1704  No, not really  35-44 years old    Man    No  Straight / Heterosexual   \n",
       "1707  No, not at all  18-24 years old    Man    No  Straight / Heterosexual   \n",
       "1870  No, not really  35-44 years old    Man    No  Straight / Heterosexual   \n",
       "\n",
       "                                 Ethnicity      Accessibility  \\\n",
       "463                      Prefer not to say  Prefer not to say   \n",
       "1089                        White;European  None of the above   \n",
       "1704                                 White  None of the above   \n",
       "1707  White;Asian;Southeast Asian;Biracial  None of the above   \n",
       "1870                        White;European  None of the above   \n",
       "\n",
       "                                           MentalHealth TBranch  \\\n",
       "463                                   Prefer not to say      No   \n",
       "1089  I have a mood or emotional disorder (e.g., dep...      No   \n",
       "1704                         I have an anxiety disorder     Yes   \n",
       "1707                                  None of the above     Yes   \n",
       "1870                                  None of the above     Yes   \n",
       "\n",
       "                       ICorPM  WorkExp     Knowledge_1        Knowledge_2  \\\n",
       "463                       NaN      NaN             NaN                NaN   \n",
       "1089                      NaN      NaN             NaN                NaN   \n",
       "1704  Independent contributor     11.0  Strongly agree  Strongly disagree   \n",
       "1707  Independent contributor      1.0           Agree           Disagree   \n",
       "1870  Independent contributor     22.0           Agree     Strongly agree   \n",
       "\n",
       "         Knowledge_3     Knowledge_4     Knowledge_5        Knowledge_6  \\\n",
       "463              NaN             NaN             NaN                NaN   \n",
       "1089             NaN             NaN             NaN                NaN   \n",
       "1704  Strongly agree  Strongly agree  Strongly agree           Disagree   \n",
       "1707           Agree  Strongly agree  Strongly agree           Disagree   \n",
       "1870        Disagree           Agree           Agree  Strongly disagree   \n",
       "\n",
       "            Knowledge_7       Frequency_1       Frequency_2       Frequency_3  \\\n",
       "463                 NaN               NaN               NaN               NaN   \n",
       "1089                NaN               NaN               NaN               NaN   \n",
       "1704  Strongly disagree  10+ times a week  10+ times a week  1-2 times a week   \n",
       "1707           Disagree             Never  3-5 times a week             Never   \n",
       "1870           Disagree  1-2 times a week  1-2 times a week  1-2 times a week   \n",
       "\n",
       "             TimeSearching               TimeAnswering      Onboarding  \\\n",
       "463                    NaN                         NaN             NaN   \n",
       "1089                   NaN                         NaN             NaN   \n",
       "1704   15-30 minutes a day        60-120 minutes a day   Somewhat long   \n",
       "1707   15-30 minutes a day  Less than 15 minutes a day      Just right   \n",
       "1870  60-120 minutes a day         15-30 minutes a day  Somewhat short   \n",
       "\n",
       "                                       ProfessionalTech TrueFalse_1  \\\n",
       "463                                                 NaN         NaN   \n",
       "1089                                                NaN         NaN   \n",
       "1704  DevOps function;Continuous integration (CI) an...         Yes   \n",
       "1707                    Microservices;Automated testing          No   \n",
       "1870                                    DevOps function         Yes   \n",
       "\n",
       "     TrueFalse_2 TrueFalse_3           SurveyLength SurveyEase  \\\n",
       "463          NaN         NaN  Appropriate in length       Easy   \n",
       "1089         NaN         NaN  Appropriate in length       Easy   \n",
       "1704          No          No  Appropriate in length       Easy   \n",
       "1707          No         Yes  Appropriate in length       Easy   \n",
       "1870          No         Yes  Appropriate in length       Easy   \n",
       "\n",
       "      ConvertedCompYearly  \n",
       "463              150660.0  \n",
       "1089                  NaN  \n",
       "1704             151992.0  \n",
       "1707             110000.0  \n",
       "1870              93846.0  "
      ]
     },
     "execution_count": 8,
     "metadata": {},
     "output_type": "execute_result"
    }
   ],
   "source": [
    "df_ds.head()"
   ]
  },
  {
   "cell_type": "markdown",
   "id": "21f4573c",
   "metadata": {},
   "source": [
    "# Popular Language among Data Specialists"
   ]
  },
  {
   "cell_type": "code",
   "execution_count": 9,
   "id": "5a2c1037",
   "metadata": {},
   "outputs": [
    {
     "name": "stdout",
     "output_type": "stream",
     "text": [
      "Hence 85.59670781893004 % of the total data specialists in the survey have used Python(among other languages as well) on their Job\n"
     ]
    }
   ],
   "source": [
    "df_python=df_ds[df_ds['LanguageHaveWorkedWith'].str.contains(\"Python\", case=False, na=False)]\n",
    "df_python\n",
    "len(df_python)\n",
    "print(\"Hence {} % of the total data specialists in the survey have used Python(among other languages as well) on their Job\".format(len(df_python)*100/(df_ds.shape[0]-sum(df_ds['LanguageHaveWorkedWith'].isnull()))))"
   ]
  },
  {
   "cell_type": "code",
   "execution_count": 10,
   "id": "3d1f436b",
   "metadata": {},
   "outputs": [
    {
     "data": {
      "text/plain": [
       "13"
      ]
     },
     "execution_count": 10,
     "metadata": {},
     "output_type": "execute_result"
    }
   ],
   "source": [
    "sum(df_ds['LanguageHaveWorkedWith'].isnull())"
   ]
  },
  {
   "cell_type": "code",
   "execution_count": 11,
   "id": "c410bfaf",
   "metadata": {},
   "outputs": [
    {
     "name": "stdout",
     "output_type": "stream",
     "text": [
      "Hence 24.96570644718793 % of the total data specialists in the survey have used R(among other languages as well) on their Job\n"
     ]
    }
   ],
   "source": [
    "df_R=df_ds[df_ds['LanguageHaveWorkedWith'].str.contains(\"R;\", case=True, na=False)]\n",
    "df_R_only= df_ds[df_ds['LanguageHaveWorkedWith']=='R']\n",
    "frames_2=[df_R, df_R_only]\n",
    "df_R_concat= pd.concat(frames_2)\n",
    "print(\"Hence {} % of the total data specialists in the survey have used R(among other languages as well) on their Job\".format(len(df_R_concat)*100/(len(df_ds)-sum(df_ds['LanguageHaveWorkedWith'].isnull()))))"
   ]
  },
  {
   "cell_type": "markdown",
   "id": "989241f2",
   "metadata": {},
   "source": [
    "Percentage of people who have used both Python and R as part of their work"
   ]
  },
  {
   "cell_type": "code",
   "execution_count": 12,
   "id": "31ef7b6e",
   "metadata": {},
   "outputs": [
    {
     "name": "stdout",
     "output_type": "stream",
     "text": [
      "Hence 19.54177897574124 % of the total data specialists in the survey who have used both Python and R on their Job\n"
     ]
    }
   ],
   "source": [
    "df_python_R=df_ds[df_ds['LanguageHaveWorkedWith'].str.contains(\"Python\", case=False, na=False) & df_ds['LanguageHaveWorkedWith'].str.contains(\";R;\", case=False, na=False)]\n",
    "df_python_R\n",
    "print(\"Hence {} % of the total data specialists in the survey who have used both Python and R on their Job\".format(len(df_python_R)*100/len(df_ds)))"
   ]
  },
  {
   "cell_type": "markdown",
   "id": "f2baaac5",
   "metadata": {},
   "source": [
    "Calculating the percentage of people who have worked on Python( among other languages as well) but have not worked on R"
   ]
  },
  {
   "cell_type": "code",
   "execution_count": 13,
   "id": "1f7e44b4",
   "metadata": {},
   "outputs": [
    {
     "data": {
      "text/plain": [
       "64.55525606469003"
      ]
     },
     "execution_count": 13,
     "metadata": {},
     "output_type": "execute_result"
    }
   ],
   "source": [
    "(len(df_python)-(len(df_python_R)))*100/len(df_ds)"
   ]
  },
  {
   "cell_type": "markdown",
   "id": "c3b6f4ea",
   "metadata": {},
   "source": [
    "Calculating the percentage of people who have worked on R( among other languages as well) but have not worked on Python"
   ]
  },
  {
   "cell_type": "code",
   "execution_count": 14,
   "id": "262314c5",
   "metadata": {},
   "outputs": [
    {
     "data": {
      "text/plain": [
       "3.504043126684636"
      ]
     },
     "execution_count": 14,
     "metadata": {},
     "output_type": "execute_result"
    }
   ],
   "source": [
    "(len(df_R)-(len(df_python_R)))*100/len(df_ds)"
   ]
  },
  {
   "cell_type": "code",
   "execution_count": 15,
   "id": "8cbb3bf5",
   "metadata": {},
   "outputs": [
    {
     "name": "stdout",
     "output_type": "stream",
     "text": [
      "Hence 5.349794238683128 % of the total data specialists in the survey have used Julia(among other languages as well) on their Job\n"
     ]
    }
   ],
   "source": [
    "df_Julia=df_ds[df_ds['LanguageHaveWorkedWith'].str.contains(\"Julia\", case=False, na=False)]\n",
    "len(df_Julia)\n",
    "print(\"Hence {} % of the total data specialists in the survey have used Julia(among other languages as well) on their Job\".format(len(df_Julia)*100/(df_ds.shape[0]-sum(df_ds['LanguageHaveWorkedWith'].isnull()))))"
   ]
  },
  {
   "cell_type": "code",
   "execution_count": 16,
   "id": "2f9343ba",
   "metadata": {},
   "outputs": [
    {
     "name": "stdout",
     "output_type": "stream",
     "text": [
      "Hence 3.017832647462277 % of the total data specialists in the survey have used Rust(among other languages as well) on their Job\n"
     ]
    }
   ],
   "source": [
    "df_Rust=df_ds[df_ds['LanguageHaveWorkedWith'].str.contains(\"Rust\", case=False, na=False)]\n",
    "len(df_Rust)\n",
    "print(\"Hence {} % of the total data specialists in the survey have used Rust(among other languages as well) on their Job\".format(len(df_Rust)*100/(df_ds.shape[0]-sum(df_ds['LanguageHaveWorkedWith'].isnull()))))"
   ]
  },
  {
   "cell_type": "code",
   "execution_count": 17,
   "id": "8ec9cd77",
   "metadata": {},
   "outputs": [
    {
     "name": "stdout",
     "output_type": "stream",
     "text": [
      "Hence 0.27434842249657065 % of the total data specialists in the survey have used Elixir(among other languages as well) on their Job\n"
     ]
    }
   ],
   "source": [
    "df_Elixir=df_ds[df_ds['LanguageHaveWorkedWith'].str.contains(\"Elixir\", case=False, na=False)]\n",
    "len(df_Julia)\n",
    "print(\"Hence {} % of the total data specialists in the survey have used Elixir(among other languages as well) on their Job\".format(len(df_Elixir)*100/(df_ds.shape[0]-sum(df_ds['LanguageHaveWorkedWith'].isnull()))))"
   ]
  },
  {
   "cell_type": "code",
   "execution_count": 18,
   "id": "51c4b1cc",
   "metadata": {},
   "outputs": [
    {
     "name": "stdout",
     "output_type": "stream",
     "text": [
      "Hence 3.017832647462277 % of the total data specialists in the survey have used Go(among other languages as well) on their Job\n"
     ]
    }
   ],
   "source": [
    "df_Go=df_ds[df_ds['LanguageHaveWorkedWith'].str.contains(\"Go\", case=False, na=False)]\n",
    "len(df_Go)\n",
    "print(\"Hence {} % of the total data specialists in the survey have used Go(among other languages as well) on their Job\".format(len(df_Go)*100/(df_ds.shape[0]-sum(df_ds['LanguageHaveWorkedWith'].isnull()))))"
   ]
  },
  {
   "cell_type": "code",
   "execution_count": 66,
   "id": "e772bb20",
   "metadata": {},
   "outputs": [
    {
     "name": "stdout",
     "output_type": "stream",
     "text": [
      "Hence 60.35665294924554 % of the total data specialists in the survey have used SQL(among other languages as well) on their Job\n"
     ]
    }
   ],
   "source": [
    "df_SQL=df_ds[df_ds['LanguageHaveWorkedWith'].str.contains(\"SQL\", case=True, na=False)]\n",
    "print(\"Hence {} % of the total data specialists in the survey have used SQL(among other languages as well) on their Job\".format(len(df_SQL)*100/(len(df_ds)-sum(df_ds['LanguageHaveWorkedWith'].isnull()))))"
   ]
  },
  {
   "cell_type": "code",
   "execution_count": 67,
   "id": "29ce62e1",
   "metadata": {},
   "outputs": [],
   "source": [
    "df_prog= pd.DataFrame({'Programming Language' : ['Python', 'R', 'Julia', 'Rust', 'Julia', 'Go', 'SQL'], 'Proportion of People using': [0.85,0.24,0.05,0.03,0.0027,0.03, 0.603]})\n",
    "df_prog_sort=df_prog.sort_values('Proportion of People using')"
   ]
  },
  {
   "cell_type": "code",
   "execution_count": 68,
   "id": "a4ebd181",
   "metadata": {},
   "outputs": [
    {
     "data": {
      "image/png": "[encoded data removed]",
      "text/plain": [
       "<Figure size 432x288 with 1 Axes>"
      ]
     },
     "metadata": {
      "needs_background": "light"
     },
     "output_type": "display_data"
    }
   ],
   "source": [
    "import seaborn as sns\n",
    "sns.barplot(x='Programming Language', y='Proportion of People using', data= df_prog_sort)\n",
    "plt.show()"
   ]
  },
  {
   "cell_type": "markdown",
   "id": "3998f052",
   "metadata": {},
   "source": [
    "Hence, Python is predominantly used among Data specialists as per the data. Whereas, there is a very low percentage of data specialists who have used R on their Job but have not worked on Python yet."
   ]
  },
  {
   "cell_type": "markdown",
   "id": "48b15d51",
   "metadata": {},
   "source": [
    "# Popular Database to work with for Data Specialists"
   ]
  },
  {
   "cell_type": "code",
   "execution_count": 30,
   "id": "905c5deb",
   "metadata": {},
   "outputs": [
    {
     "name": "stdout",
     "output_type": "stream",
     "text": [
      "Hence 29.919137466307276 % of the total data specialists in the survey using MySql(among other databases as well) on their Job\n"
     ]
    }
   ],
   "source": [
    "df_mysql=df_ds[df_ds['DatabaseHaveWorkedWith'].str.contains(\"MySql\", case=False, na=False)]\n",
    "print(\"Hence {} % of the total data specialists in the survey using MySql(among other databases as well) on their Job\".format(len(df_mysql)*100/len(df_ds)))"
   ]
  },
  {
   "cell_type": "code",
   "execution_count": 31,
   "id": "911b5940",
   "metadata": {},
   "outputs": [
    {
     "name": "stdout",
     "output_type": "stream",
     "text": [
      "Hence 36.79245283018868 % of the total data specialists in the survey using PostgreSQL(among other databases as well) on their Job\n"
     ]
    }
   ],
   "source": [
    "df_PostgreSQL=df_ds[df_ds['DatabaseHaveWorkedWith'].str.contains(\"PostgreSQL\", case=False, na=False)]\n",
    "print(\"Hence {} % of the total data specialists in the survey using PostgreSQL(among other databases as well) on their Job\".format(len(df_PostgreSQL)*100/len(df_ds)))"
   ]
  },
  {
   "cell_type": "code",
   "execution_count": 32,
   "id": "2e273669",
   "metadata": {},
   "outputs": [
    {
     "name": "stdout",
     "output_type": "stream",
     "text": [
      "Hence 3.234501347708895 % of the total data specialists in the survey using DynamoDB(among other databases as well) on their Job\n"
     ]
    }
   ],
   "source": [
    "df_DynamoDB=df_ds[df_ds['DatabaseHaveWorkedWith'].str.contains(\"DynamoDB\", case=False, na=False)]\n",
    "print(\"Hence {} % of the total data specialists in the survey using DynamoDB(among other databases as well) on their Job\".format(len(df_DynamoDB)*100/len(df_ds)))"
   ]
  },
  {
   "cell_type": "code",
   "execution_count": 33,
   "id": "b149c1cb",
   "metadata": {},
   "outputs": [
    {
     "name": "stdout",
     "output_type": "stream",
     "text": [
      "Hence 7.681940700808625 % of the total data specialists in the survey using Elasticsearch(among other databases as well) on their Job\n"
     ]
    }
   ],
   "source": [
    "df_Elasticsearch=df_ds[df_ds['DatabaseHaveWorkedWith'].str.contains(\"Elasticsearch\", case=False, na=False)]\n",
    "print(\"Hence {} % of the total data specialists in the survey using Elasticsearch(among other databases as well) on their Job\".format(len(df_Elasticsearch)*100/len(df_ds)))"
   ]
  },
  {
   "cell_type": "code",
   "execution_count": 34,
   "id": "64e28c1d",
   "metadata": {},
   "outputs": [
    {
     "name": "stdout",
     "output_type": "stream",
     "text": [
      "Hence 22.641509433962263 % of the total data specialists in the survey using SQLite(among other databases as well) on their Job\n"
     ]
    }
   ],
   "source": [
    "df_SQLite=df_ds[df_ds['DatabaseHaveWorkedWith'].str.contains(\"SQLite\", case=False, na=False)]\n",
    "print(\"Hence {} % of the total data specialists in the survey using SQLite(among other databases as well) on their Job\".format(len(df_SQLite)*100/len(df_ds)))"
   ]
  },
  {
   "cell_type": "code",
   "execution_count": 35,
   "id": "de38dd74",
   "metadata": {},
   "outputs": [
    {
     "name": "stdout",
     "output_type": "stream",
     "text": [
      "Hence 8.221024258760108 % of the total data specialists in the survey using Redis(among other databases as well) on their Job\n"
     ]
    }
   ],
   "source": [
    "df_Redis=df_ds[df_ds['DatabaseHaveWorkedWith'].str.contains(\"Redis\", case=False, na=False)]\n",
    "print(\"Hence {} % of the total data specialists in the survey using Redis(among other databases as well) on their Job\".format(len(df_Redis)*100/len(df_ds)))"
   ]
  },
  {
   "cell_type": "code",
   "execution_count": 36,
   "id": "23a2e86a",
   "metadata": {},
   "outputs": [
    {
     "name": "stdout",
     "output_type": "stream",
     "text": [
      "Hence 25.202156334231805 % of the total data specialists in the survey using Microsoft SQL Server(among other databases as well) on their Job\n"
     ]
    }
   ],
   "source": [
    "df_Microsoft_SQL=df_ds[df_ds['DatabaseHaveWorkedWith'].str.contains(\"Microsoft SQL Server\", case=False, na=False)]\n",
    "print(\"Hence {} % of the total data specialists in the survey using Microsoft SQL Server(among other databases as well) on their Job\".format(len(df_Microsoft_SQL)*100/len(df_ds)))"
   ]
  },
  {
   "cell_type": "code",
   "execution_count": 37,
   "id": "13919d78",
   "metadata": {},
   "outputs": [
    {
     "name": "stdout",
     "output_type": "stream",
     "text": [
      "Hence 9.838274932614555 % of the total data specialists in the survey using Oracle(among other databases as well) on their Job\n"
     ]
    }
   ],
   "source": [
    "df_Oracle=df_ds[df_ds['DatabaseHaveWorkedWith'].str.contains(\"Oracle\", case=False, na=False)]\n",
    "print(\"Hence {} % of the total data specialists in the survey using Oracle(among other databases as well) on their Job\".format(len(df_Oracle)*100/len(df_ds)))"
   ]
  },
  {
   "cell_type": "code",
   "execution_count": 38,
   "id": "93c2261d",
   "metadata": {},
   "outputs": [
    {
     "name": "stdout",
     "output_type": "stream",
     "text": [
      "Hence 13.611859838274933 % of the total data specialists in the survey using MongoDB(among other databases as well) on their Job\n"
     ]
    }
   ],
   "source": [
    "df_MongoDB=df_ds[df_ds['DatabaseHaveWorkedWith'].str.contains(\"MongoDB\", case=False, na=False)]\n",
    "print(\"Hence {} % of the total data specialists in the survey using MongoDB(among other databases as well) on their Job\".format(len(df_MongoDB)*100/len(df_ds)))"
   ]
  },
  {
   "cell_type": "code",
   "execution_count": 39,
   "id": "0efb4f29",
   "metadata": {},
   "outputs": [
    {
     "name": "stdout",
     "output_type": "stream",
     "text": [
      "Hence 1.482479784366577 % of the total data specialists in the survey using Cassandra(among other databases as well) on their Job\n"
     ]
    }
   ],
   "source": [
    "df_Cassandra=df_ds[df_ds['DatabaseHaveWorkedWith'].str.contains(\"Cassandra\", case=False, na=False)]\n",
    "print(\"Hence {} % of the total data specialists in the survey using Cassandra(among other databases as well) on their Job\".format(len(df_Cassandra)*100/len(df_ds)))"
   ]
  },
  {
   "cell_type": "code",
   "execution_count": 40,
   "id": "96e2a3a0",
   "metadata": {},
   "outputs": [
    {
     "data": {
      "text/html": [
       "<div>\n",
       "<style scoped>\n",
       "    .dataframe tbody tr th:only-of-type {\n",
       "        vertical-align: middle;\n",
       "    }\n",
       "\n",
       "    .dataframe tbody tr th {\n",
       "        vertical-align: top;\n",
       "    }\n",
       "\n",
       "    .dataframe thead th {\n",
       "        text-align: right;\n",
       "    }\n",
       "</style>\n",
       "<table border=\"1\" class=\"dataframe\">\n",
       "  <thead>\n",
       "    <tr style=\"text-align: right;\">\n",
       "      <th></th>\n",
       "      <th>Database</th>\n",
       "      <th>Proportion of People using</th>\n",
       "    </tr>\n",
       "  </thead>\n",
       "  <tbody>\n",
       "    <tr>\n",
       "      <th>9</th>\n",
       "      <td>Cassandra</td>\n",
       "      <td>0.014</td>\n",
       "    </tr>\n",
       "    <tr>\n",
       "      <th>2</th>\n",
       "      <td>DynamoDB</td>\n",
       "      <td>0.030</td>\n",
       "    </tr>\n",
       "    <tr>\n",
       "      <th>3</th>\n",
       "      <td>Elastic Search</td>\n",
       "      <td>0.070</td>\n",
       "    </tr>\n",
       "    <tr>\n",
       "      <th>5</th>\n",
       "      <td>Redis</td>\n",
       "      <td>0.080</td>\n",
       "    </tr>\n",
       "    <tr>\n",
       "      <th>7</th>\n",
       "      <td>Oracle</td>\n",
       "      <td>0.090</td>\n",
       "    </tr>\n",
       "    <tr>\n",
       "      <th>8</th>\n",
       "      <td>MongoDB</td>\n",
       "      <td>0.130</td>\n",
       "    </tr>\n",
       "    <tr>\n",
       "      <th>4</th>\n",
       "      <td>SQLite</td>\n",
       "      <td>0.220</td>\n",
       "    </tr>\n",
       "    <tr>\n",
       "      <th>6</th>\n",
       "      <td>Microsoft Sql Server</td>\n",
       "      <td>0.250</td>\n",
       "    </tr>\n",
       "    <tr>\n",
       "      <th>0</th>\n",
       "      <td>MySQL</td>\n",
       "      <td>0.290</td>\n",
       "    </tr>\n",
       "    <tr>\n",
       "      <th>1</th>\n",
       "      <td>PostgreSQL</td>\n",
       "      <td>0.360</td>\n",
       "    </tr>\n",
       "  </tbody>\n",
       "</table>\n",
       "</div>"
      ],
      "text/plain": [
       "               Database  Proportion of People using\n",
       "9             Cassandra                       0.014\n",
       "2              DynamoDB                       0.030\n",
       "3        Elastic Search                       0.070\n",
       "5                 Redis                       0.080\n",
       "7                Oracle                       0.090\n",
       "8               MongoDB                       0.130\n",
       "4                SQLite                       0.220\n",
       "6  Microsoft Sql Server                       0.250\n",
       "0                 MySQL                       0.290\n",
       "1            PostgreSQL                       0.360"
      ]
     },
     "execution_count": 40,
     "metadata": {},
     "output_type": "execute_result"
    }
   ],
   "source": [
    "df_db= pd.DataFrame({'Database' : ['MySQL', 'PostgreSQL', 'DynamoDB', 'Elastic Search', 'SQLite', 'Redis', 'Microsoft Sql Server','Oracle', 'MongoDB', 'Cassandra'], 'Proportion of People using': [0.29,0.36,0.03,0.07,0.22,0.08,0.25,0.09,0.13,0.014]})\n",
    "df_db_sort=df_db.sort_values('Proportion of People using')\n",
    "df_db_sort"
   ]
  },
  {
   "cell_type": "code",
   "execution_count": 41,
   "id": "b9190cb3",
   "metadata": {},
   "outputs": [
    {
     "data": {
      "image/png": "[encoded data removed]",
      "text/plain": [
       "<Figure size 432x288 with 1 Axes>"
      ]
     },
     "metadata": {
      "needs_background": "light"
     },
     "output_type": "display_data"
    }
   ],
   "source": [
    "sns.barplot(x='Proportion of People using', y='Database', data= df_db_sort, orient='h')\n",
    "plt.show()"
   ]
  },
  {
   "cell_type": "markdown",
   "id": "12726fc8",
   "metadata": {},
   "source": [
    "# Which Operating System is popular among the data professionals?"
   ]
  },
  {
   "cell_type": "code",
   "execution_count": 61,
   "id": "64cd701c",
   "metadata": {},
   "outputs": [
    {
     "name": "stdout",
     "output_type": "stream",
     "text": [
      "Hence 28.694404591104735 % of the total data specialists in the survey who have used macOS(among other OS as well) on their Job\n"
     ]
    }
   ],
   "source": [
    "df_macos=df_ds[df_ds['OpSysProfessional use'].str.contains(\"macOS\", case=False, na=False)]\n",
    "print(\"Hence {} % of the total data specialists in the survey who have used macOS(among other OS as well) on their Job\".format(len(df_macos)*100/(df_ds.shape[0]-sum(df_ds['OpSysProfessional use'].isnull()))))"
   ]
  },
  {
   "cell_type": "code",
   "execution_count": 62,
   "id": "30cc1bfe",
   "metadata": {},
   "outputs": [
    {
     "name": "stdout",
     "output_type": "stream",
     "text": [
      "Hence 61.8364418938307 % of the total data specialists in the survey who have used Windows(among other OS as well) on their Job\n"
     ]
    }
   ],
   "source": [
    "df_Windows=df_ds[df_ds['OpSysProfessional use'].str.contains(\"Windows\", case=False, na=False)]\n",
    "print(\"Hence {} % of the total data specialists in the survey who have used Windows(among other OS as well) on their Job\".format(len(df_Windows)*100/(df_ds.shape[0]-sum(df_ds['OpSysProfessional use'].isnull()))))"
   ]
  },
  {
   "cell_type": "code",
   "execution_count": 63,
   "id": "bc113d65",
   "metadata": {},
   "outputs": [
    {
     "name": "stdout",
     "output_type": "stream",
     "text": [
      "Hence 38.020086083213776 % of the total data specialists in the survey who have used Linux(among other OS as well) on their Job\n"
     ]
    }
   ],
   "source": [
    "df_linux=df_ds[df_ds['OpSysProfessional use'].str.contains(\"Linux-based\", case=False, na=False)]\n",
    "print(\"Hence {} % of the total data specialists in the survey who have used Linux(among other OS as well) on their Job\".format(len(df_linux)*100/(df_ds.shape[0]-sum(df_ds['OpSysProfessional use'].isnull()))))"
   ]
  },
  {
   "cell_type": "code",
   "execution_count": 64,
   "id": "fd4b1c29",
   "metadata": {},
   "outputs": [
    {
     "name": "stdout",
     "output_type": "stream",
     "text": [
      "Hence 11.190817790530847 % of the total data specialists in the survey who have used WSL(among other OS as well) on their Job\n"
     ]
    }
   ],
   "source": [
    "df_wsl=df_ds[df_ds['OpSysProfessional use'].str.contains(\"WSL\", case=False, na=False)]\n",
    "print(\"Hence {} % of the total data specialists in the survey who have used WSL(among other OS as well) on their Job\".format(len(df_wsl)*100/(df_ds.shape[0]-sum(df_ds['OpSysProfessional use'].isnull()))))"
   ]
  },
  {
   "cell_type": "code",
   "execution_count": 65,
   "id": "495a01d8",
   "metadata": {},
   "outputs": [
    {
     "name": "stdout",
     "output_type": "stream",
     "text": [
      "Hence 0.430416068866571 % of the total data specialists in the survey who have used BSD(among other OS as well) on their Job\n"
     ]
    }
   ],
   "source": [
    "df_bsd=df_ds[df_ds['OpSysProfessional use'].str.contains(\"BSD\", case=False, na=False)]\n",
    "print(\"Hence {} % of the total data specialists in the survey who have used BSD(among other OS as well) on their Job\".format(len(df_bsd)*100/(df_ds.shape[0]-sum(df_ds['OpSysProfessional use'].isnull()))))"
   ]
  }
 ],
 "metadata": {
  "kernelspec": {
   "display_name": "Python 3 (ipykernel)",
   "language": "python",
   "name": "python3"
  },
  "language_info": {
   "codemirror_mode": {
    "name": "ipython",
    "version": 3
   },
   "file_extension": ".py",
   "mimetype": "text/x-python",
   "name": "python",
   "nbconvert_exporter": "python",
   "pygments_lexer": "ipython3",
   "version": "3.9.12"
  }
 },
 "nbformat": 4,
 "nbformat_minor": 5
}
